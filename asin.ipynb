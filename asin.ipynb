{
 "cells": [
  {
   "cell_type": "code",
   "execution_count": 129,
   "metadata": {},
   "outputs": [],
   "source": [
    "from urllib.request import urlopen, Request\n",
    "from bs4 import BeautifulSoup\n",
    "import requests\n",
    "import numpy as np\n",
    "import pandas as pd\n",
    "from bs4 import BeautifulSoup\n",
    "import time"
   ]
  },
  {
   "cell_type": "code",
   "execution_count": 177,
   "metadata": {},
   "outputs": [],
   "source": [
    "url = \"https://www.amazon.in/dp/B085G25LLB\"\n",
    "response = urlopen(url)\n",
    "bsObj = BeautifulSoup(response, \"html.parser\")"
   ]
  },
  {
   "cell_type": "code",
   "execution_count": 178,
   "metadata": {},
   "outputs": [],
   "source": [
    "target_object = bsObj.find(\"div\", {\"id\": \"centerCol\"}).find(\"div\",{\"id\": \"productDetails_feature_div\"})"
   ]
  },
  {
   "cell_type": "code",
   "execution_count": 179,
   "metadata": {},
   "outputs": [],
   "source": [
    "target_object_2 = bsObj.find(\"div\", {\"id\": \"productDetails_feature_div\"})"
   ]
  },
  {
   "cell_type": "code",
   "execution_count": 180,
   "metadata": {},
   "outputs": [],
   "source": [
    "final_dict = {}\n",
    "for i in target_object_2.find(\"table\", {\"id\": \"productDetails_techSpec_section_1\"}).findAll(\"tr\"):\n",
    "    x = \"\"\n",
    "    for i1 in i.find(\"td\").text:\n",
    "        if(i1.isalpha() or i1.isnumeric() or i1 == \" \"):\n",
    "            x += i1\n",
    "        \n",
    "    x = x.strip()\n",
    "    \n",
    "    \n",
    "    final_dict[i.find(\"th\").text] =  x\n",
    "\n",
    "for i in target_object_2.find(\"div\", {\"class\": \"a-column a-span6 a-span-last\"}).findAll(\"tr\"):\n",
    "    final_dict[i.find(\"td\").text] = i.find(\"th\").text\n"
   ]
  },
  {
   "cell_type": "code",
   "execution_count": 181,
   "metadata": {},
   "outputs": [
    {
     "data": {
      "text/plain": [
       "{'  Brand  ': 'YUVS',\n",
       " ' Manufacturer ': 'YUVS INTERNATIONAL',\n",
       " ' Country of Origin ': 'China',\n",
       " '  Colour  ': 'MULTI',\n",
       " '  Number of Memory Sticks  ': '3',\n",
       " ' Item Weight ': '80 g',\n",
       " ' Product Dimensions ': '22 x 6 x 1 cm 80 Grams',\n",
       " ' Item part number ': '3',\n",
       " '  Item Height  ': '1 Centimeters',\n",
       " '  Item Width  ': '6 Centimeters',\n",
       " '  Cable Interface  ': 'Composite',\n",
       " '  Connectivity Technology  ': 'Electricity',\n",
       " '  Data Transfer Rate  ': '250 Accelerated Reader',\n",
       " ' Number of pins ': '120',\n",
       " '  Compatible Device  ': 'Projector',\n",
       " '  Are batteries included?  ': 'No',\n",
       " ' B085G25LLB ': ' ASIN ',\n",
       " ' \\n\\n \\n   4.4  4.4 out of 5 stars    \\n    434 ratings   \\n\\n\\n 4.4 out of 5 stars ': 'Customer Reviews',\n",
       " '  #1,146 in Industrial & Scientific (See Top 100 in Industrial & Scientific)  #4 in Jumper Wires   ': ' Best Sellers Rank ',\n",
       " ' 16 May 2019 ': ' Date First Available ',\n",
       " \" YUV'S INTERNATIONAL \": ' Manufacturer ',\n",
       " ' 22 x 6 x 1 Centimeters ': ' Item Dimensions LxWxH ',\n",
       " ' 1.00 count ': ' Net Quantity ',\n",
       " ' jumper wire ': ' Generic Name '}"
      ]
     },
     "execution_count": 181,
     "metadata": {},
     "output_type": "execute_result"
    }
   ],
   "source": [
    "final_dict"
   ]
  },
  {
   "attachments": {},
   "cell_type": "markdown",
   "metadata": {},
   "source": [
    "<h1> getting reviews </h1>"
   ]
  },
  {
   "cell_type": "code",
   "execution_count": 182,
   "metadata": {},
   "outputs": [],
   "source": [
    "review_section = bsObj.findAll(\"div\", {\"id\": \"customer-reviews_feature_div\"},)\n",
    "raw_review = []\n",
    "for i in review_section:\n",
    "    if(len(i.text.strip()) > 40):\n",
    "        raw_review.append(i.text.strip())\n"
   ]
  },
  {
   "cell_type": "code",
   "execution_count": 224,
   "metadata": {},
   "outputs": [
    {
     "name": "stdout",
     "output_type": "stream",
     "text": [
      "                To calculate the overall star rating and percentage breakdown by star, we don’t use a simple average. Instead, our system considers things like how recent a review is and if the reviewer bought the item on Amazon. It also analyses reviews to verify trustworthiness.\n",
      "There was a problem filtering reviews right now. Please try again later.amarjit4.0 out of 5 stars\n",
      "The wires are decent and do their job very well. overall good purchase\n",
      "10cm Size Is perfect for some of my breadboarding nerds\n",
      "When making an electronics breadboard, sometimes you need a wire intermediate in length between the short and long you often have in too large quantities. These 10cm length wires fit the need! And they are of many colours and assembled with fittings in a quality way. I highly recommend it. visit my site for electronics projects - diyprojectslab.com\n",
      "Did a continuity test from multi meter many faulty wires.\n",
      "            40 pin male 40pin female to female\n"
     ]
    }
   ],
   "source": [
    "for i in raw_review[0].split(\"\\n\"):\n",
    "    if(len(i) > 40):\n",
    "        if(\"Customer reviews\" in i or \"Reviews\" in i or \"Reviewed\" in i or \"ratings\" in i or \"View Image\" in i):\n",
    "            pass\n",
    "        else:\n",
    "            print(i)  "
   ]
  },
  {
   "cell_type": "code",
   "execution_count": 230,
   "metadata": {},
   "outputs": [],
   "source": [
    "import pandas as pd\n",
    "from urllib.request import urlopen\n",
    "from bs4 import BeautifulSoup\n",
    "\n",
    "def create_dataframe(url):\n",
    "\n",
    "        # Retrieve HTML content from the provided URL\n",
    "        response = urlopen(url)\n",
    "        bsObj = BeautifulSoup(response, \"html.parser\")\n",
    "\n",
    "        # Extract product details\n",
    "        target_object_2 = bsObj.find(\"div\", {\"id\": \"productDetails_feature_div\"})\n",
    "        final_dict = {}\n",
    "        for row in target_object_2.find(\"table\", {\"id\": \"productDetails_techSpec_section_1\"}).findAll(\"tr\"):\n",
    "            key = row.find(\"th\").text.strip()\n",
    "            value = ''.join(filter(lambda c: c.isalpha() or c.isnumeric() or c == \" \", row.find(\"td\").text.strip()))\n",
    "            final_dict[str(key)] = value\n",
    "\n",
    "        # Extract reviews\n",
    "        review_section = bsObj.findAll(\"div\", {\"id\": \"customer-reviews_feature_div\"})\n",
    "        raw_review = []\n",
    "        for i in review_section:\n",
    "             if(len(i.text.strip()) > 40):\n",
    "                  raw_review.append(i.text.strip())\n",
    "        final_review = []\n",
    "        for i in raw_review[0].split(\"\\n\"):\n",
    "             if(len(i) > 40):\n",
    "                  if(\"Customer reviews\" in i or \"Reviews\" in i or \"Reviewed\" in i or \"ratings\" in i or \"View Image\" in i):\n",
    "                       pass\n",
    "                  else:\n",
    "                       final_review.append(i) \n",
    "\n",
    "        \n",
    "\n",
    "\n",
    "\n",
    "\n",
    "        # Create a DataFrame from the dictionary and reviews\n",
    "        df = pd.DataFrame(list(final_dict.items()), columns=['Detail', 'Value'])\n",
    "        # new dataframe\n",
    "        df2 = pd.DataFrame(final_review[2:], columns=['Reviews'])\n",
    "        \n",
    "        return df,df2\n",
    "\n",
    "\n",
    "\n",
    "\n",
    "\n"
   ]
  },
  {
   "cell_type": "code",
   "execution_count": null,
   "metadata": {},
   "outputs": [],
   "source": []
  },
  {
   "cell_type": "code",
   "execution_count": 231,
   "metadata": {},
   "outputs": [],
   "source": [
    "data_1 , data_2 = create_dataframe(\"https://www.amazon.in/dp/B085G25LLB\")"
   ]
  },
  {
   "cell_type": "code",
   "execution_count": 232,
   "metadata": {},
   "outputs": [
    {
     "data": {
      "text/html": [
       "<div>\n",
       "<style scoped>\n",
       "    .dataframe tbody tr th:only-of-type {\n",
       "        vertical-align: middle;\n",
       "    }\n",
       "\n",
       "    .dataframe tbody tr th {\n",
       "        vertical-align: top;\n",
       "    }\n",
       "\n",
       "    .dataframe thead th {\n",
       "        text-align: right;\n",
       "    }\n",
       "</style>\n",
       "<table border=\"1\" class=\"dataframe\">\n",
       "  <thead>\n",
       "    <tr style=\"text-align: right;\">\n",
       "      <th></th>\n",
       "      <th>Reviews</th>\n",
       "    </tr>\n",
       "  </thead>\n",
       "  <tbody>\n",
       "    <tr>\n",
       "      <th>0</th>\n",
       "      <td>The wires are decent and do their job very wel...</td>\n",
       "    </tr>\n",
       "    <tr>\n",
       "      <th>1</th>\n",
       "      <td>10cm Size Is perfect for some of my breadboard...</td>\n",
       "    </tr>\n",
       "    <tr>\n",
       "      <th>2</th>\n",
       "      <td>When making an electronics breadboard, sometim...</td>\n",
       "    </tr>\n",
       "    <tr>\n",
       "      <th>3</th>\n",
       "      <td>Did a continuity test from multi meter many fa...</td>\n",
       "    </tr>\n",
       "    <tr>\n",
       "      <th>4</th>\n",
       "      <td>40 pin male 40pin female to female</td>\n",
       "    </tr>\n",
       "  </tbody>\n",
       "</table>\n",
       "</div>"
      ],
      "text/plain": [
       "                                             Reviews\n",
       "0  The wires are decent and do their job very wel...\n",
       "1  10cm Size Is perfect for some of my breadboard...\n",
       "2  When making an electronics breadboard, sometim...\n",
       "3  Did a continuity test from multi meter many fa...\n",
       "4                 40 pin male 40pin female to female"
      ]
     },
     "execution_count": 232,
     "metadata": {},
     "output_type": "execute_result"
    }
   ],
   "source": [
    "data_2"
   ]
  }
 ],
 "metadata": {
  "kernelspec": {
   "display_name": "NLP",
   "language": "python",
   "name": "python3"
  },
  "language_info": {
   "codemirror_mode": {
    "name": "ipython",
    "version": 3
   },
   "file_extension": ".py",
   "mimetype": "text/x-python",
   "name": "python",
   "nbconvert_exporter": "python",
   "pygments_lexer": "ipython3",
   "version": "3.11.2"
  },
  "orig_nbformat": 4
 },
 "nbformat": 4,
 "nbformat_minor": 2
}
